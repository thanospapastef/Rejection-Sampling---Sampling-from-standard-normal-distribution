{
  "nbformat": 4,
  "nbformat_minor": 0,
  "metadata": {
    "colab": {
      "name": "Sampling from standard normal distribution with Rejection Sampling method",
      "provenance": [],
      "include_colab_link": true
    },
    "kernelspec": {
      "name": "python3",
      "display_name": "Python 3"
    },
    "language_info": {
      "name": "python"
    }
  },
  "cells": [
    {
      "cell_type": "markdown",
      "metadata": {
        "id": "view-in-github",
        "colab_type": "text"
      },
      "source": [
        "<a href=\"https://colab.research.google.com/github/thanospapastef/Rejection-Sampling---Sampling-from-standard-normal-distribution/blob/main/Sampling_from_standard_normal_distribution_with_Rejection_Sampling_method.ipynb\" target=\"_parent\"><img src=\"https://colab.research.google.com/assets/colab-badge.svg\" alt=\"Open In Colab\"/></a>"
      ]
    },
    {
      "cell_type": "code",
      "metadata": {
        "id": "kaK9EVyZupGU"
      },
      "source": [
        "import numpy as np\n",
        "import matplotlib.pyplot as plt\n",
        "import seaborn as sns\n",
        "import math"
      ],
      "execution_count": null,
      "outputs": []
    },
    {
      "cell_type": "code",
      "metadata": {
        "id": "ctatZtJ437ti"
      },
      "source": [
        "#Define target function (density of target distribution)\n",
        "def target(x):\n",
        "    return (1/np.sqrt(2 * math.pi)) * np.exp(-(x**2)/2)"
      ],
      "execution_count": null,
      "outputs": []
    },
    {
      "cell_type": "code",
      "metadata": {
        "id": "ndeXHAVf7T3q"
      },
      "source": [
        "#Define proposal function 1 (density of proposal distribution N(0,4)) \n",
        "def g(x):\n",
        "    return (1/(2 * np.sqrt(2 * math.pi))) * np.exp(-(x**2)/8)"
      ],
      "execution_count": null,
      "outputs": []
    },
    {
      "cell_type": "code",
      "metadata": {
        "id": "aD5KACor3rL3"
      },
      "source": [
        "#Define proposal function 2 (density of proposal distribution N(0,16)) \n",
        "def z(x):\n",
        "    return (1/(4 * np.sqrt(2 * math.pi))) * np.exp(-(x**2)/32)"
      ],
      "execution_count": null,
      "outputs": []
    },
    {
      "cell_type": "code",
      "metadata": {
        "id": "DJzwvsbkSDps"
      },
      "source": [
        "#Define proposal function 3 (density of proposal standard cauchy distribution) \n",
        "def cauchy(x):\n",
        "    return 1/(math.pi * (1 + x**2)) #πρόκειται για την standard cauchy"
      ],
      "execution_count": null,
      "outputs": []
    },
    {
      "cell_type": "code",
      "metadata": {
        "id": "USKwznbRiVoZ"
      },
      "source": [
        "#Using sample from N(0,4) to sample from standard normal distribution\n",
        "x1 = []\n",
        "k1 = []\n",
        "M1 = 1\n",
        "i = 0\n",
        "j = 0\n",
        "while len(x1) < 500:\n",
        "  i = i + 1\n",
        "  u1 = np.asscalar(np.random.normal(0,2,1))\n",
        "  k1.append(M1 * u1)\n",
        "  u2 = np.asscalar(np.random.uniform(0,1,1))\n",
        "  if M1 * g(u1) * u2 <= target(u1):\n",
        "    j = j + 1\n",
        "    x1.append(u1)\n",
        "accept_rate_1 = j/i \n",
        "sim1 = i/j\n",
        "print(accept_rate_1, sim1) #printing accept rate and average simulations needed to gather a simulation from standard normal distribution"
      ],
      "execution_count": null,
      "outputs": []
    },
    {
      "cell_type": "code",
      "metadata": {
        "id": "DfTRKygH6AiJ"
      },
      "source": [
        "#Using sample from N(0,16) to sample from standard normal distribution\n",
        "x2 = []\n",
        "k2 = []\n",
        "M2 = 1\n",
        "i = 0\n",
        "j = 0\n",
        "while len(x2) < 500:\n",
        "  i = i + 1\n",
        "  u1 = np.asscalar(np.random.normal(0,4,1))\n",
        "  k2.append(M2 * u1)\n",
        "  u2 = np.asscalar(np.random.uniform(0,1,1))\n",
        "  if M2 * z(u1) * u2 <= target(u1):\n",
        "    j = j + 1\n",
        "    x2.append(u1)\n",
        "accept_rate_2 = j/i\n",
        "sim2 = i/j\n",
        "print(accept_rate_2, sim2) #printing accept rate and average simulations needed to gather a simulation from standard normal distribution"
      ],
      "execution_count": null,
      "outputs": []
    },
    {
      "cell_type": "code",
      "metadata": {
        "id": "NQ_rWMat-eme"
      },
      "source": [
        "#Using sample from standard cauchy to sample from standard normal distribution\n",
        "x3 = []\n",
        "k3 = []\n",
        "M3 = 1\n",
        "i = 0\n",
        "j = 0\n",
        "while len(x3) < 500:\n",
        "  i = i + 1\n",
        "  u1 = np.asscalar(np.random.standard_cauchy(1))\n",
        "  k3.append(M3 * u1)\n",
        "  u2 = np.asscalar(np.random.uniform(0,1,1))\n",
        "  if M3 * cauchy(u1) * u2 <= target(u1):\n",
        "    j = j + 1\n",
        "    x3.append(u1)\n",
        "accept_rate_3 = j/i\n",
        "sim3 = i/j\n",
        "print(accept_rate_3, sim3) #printing accept rate and average simulations needed to gather a simulation from standard normal distribution"
      ],
      "execution_count": null,
      "outputs": []
    },
    {
      "cell_type": "code",
      "metadata": {
        "id": "UslgRKBQGNG2"
      },
      "source": [
        "#histograms from each proposal vs actual standard normal distribution\n",
        "standard_normal_pdf = np.random.normal(0,1,500)\n",
        "sns.distplot(a = x1, hist = False, kde_kws={\"label\":\"from N(0,4)\"})\n",
        "sns.distplot(a = x2, hist = False, kde_kws={\"label\":\"from N(0,16)\"})\n",
        "sns.distplot(a = x3, hist = False, kde_kws={\"label\":\"from Cauchy\"})\n",
        "sns.distplot(a = standard_normal_pdf, hist = False, kde_kws={\"label\":\"N(0,1)\"})\n",
        "plt.legend()"
      ],
      "execution_count": null,
      "outputs": []
    },
    {
      "cell_type": "code",
      "source": [
        ""
      ],
      "metadata": {
        "id": "IlCNdwQzCTUZ"
      },
      "execution_count": null,
      "outputs": []
    }
  ]
}